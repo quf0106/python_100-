{
 "cells": [
  {
   "cell_type": "code",
   "execution_count": 4,
   "metadata": {},
   "outputs": [],
   "source": [
    "import random"
   ]
  },
  {
   "cell_type": "code",
   "execution_count": 9,
   "metadata": {},
   "outputs": [],
   "source": [
    "count = 4\n",
    "num = random.randint(1,10)"
   ]
  },
  {
   "cell_type": "code",
   "execution_count": 10,
   "metadata": {},
   "outputs": [
    {
     "name": "stdout",
     "output_type": "stream",
     "text": [
      "숫자를 입력하세요 :1\n",
      "더 큰 수 입니다.\n",
      "숫자를 입력하세요 :1\n",
      "더 큰 수 입니다.\n",
      "숫자를 입력하세요 :1\n",
      "더 큰 수 입니다.\n",
      "숫자를 입력하세요 :1\n",
      "더 큰 수 입니다.\n",
      "숫자를 입력하세요 :1\n",
      "기회를 다 되었습니다\n"
     ]
    }
   ],
   "source": [
    "while True:\n",
    "    a = int(input('숫자를 입력하세요 :'))\n",
    "    if count > 0:\n",
    "        if a == num:\n",
    "            print('정답입니다')\n",
    "            break\n",
    "        elif a > num:\n",
    "            print('더 작은 수 입니다')\n",
    "            count= count-1\n",
    "        else:\n",
    "            print('더 큰 수 입니다.')\n",
    "            count= count-1\n",
    "    else:\n",
    "        print('기회를 다 되었습니다')\n",
    "        break"
   ]
  }
 ],
 "metadata": {
  "kernelspec": {
   "display_name": "Python 3",
   "language": "python",
   "name": "python3"
  }
 },
 "nbformat": 4,
 "nbformat_minor": 2
}

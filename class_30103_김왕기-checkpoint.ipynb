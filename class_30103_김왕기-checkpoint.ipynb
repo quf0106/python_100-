{
 "cells": [
  {
   "cell_type": "markdown",
   "metadata": {},
   "source": [
    "class_30103_김왕기"
   ]
  },
  {
   "cell_type": "code",
   "execution_count": 1,
   "metadata": {},
   "outputs": [
    {
     "data": {
      "text/plain": [
       "list"
      ]
     },
     "execution_count": 1,
     "metadata": {},
     "output_type": "execute_result"
    }
   ],
   "source": [
    "a = [1,2,3,4,5]\n",
    "type(a)"
   ]
  },
  {
   "cell_type": "code",
   "execution_count": 6,
   "metadata": {},
   "outputs": [
    {
     "data": {
      "text/plain": [
       "[1, 2, 3, 4, 5, 100, 100]"
      ]
     },
     "execution_count": 6,
     "metadata": {},
     "output_type": "execute_result"
    }
   ],
   "source": [
    "a.append(100)\n",
    "a"
   ]
  },
  {
   "cell_type": "code",
   "execution_count": 7,
   "metadata": {},
   "outputs": [
    {
     "data": {
      "text/plain": [
       "[1, 2, 3, 4, 5, 100]"
      ]
     },
     "execution_count": 7,
     "metadata": {},
     "output_type": "execute_result"
    }
   ],
   "source": [
    "a.remove(100)\n",
    "a"
   ]
  },
  {
   "cell_type": "code",
   "execution_count": 8,
   "metadata": {},
   "outputs": [],
   "source": [
    "def text_1():\n",
    "    pass\n",
    "def text_2():\n",
    "    pass"
   ]
  },
  {
   "cell_type": "code",
   "execution_count": 9,
   "metadata": {},
   "outputs": [],
   "source": [
    "a = [1,2,3,4,5]\n",
    "b = (1,2,3)"
   ]
  },
  {
   "cell_type": "code",
   "execution_count": 10,
   "metadata": {},
   "outputs": [
    {
     "data": {
      "text/plain": [
       "[1, 100, 3, 4, 5]"
      ]
     },
     "execution_count": 10,
     "metadata": {},
     "output_type": "execute_result"
    }
   ],
   "source": [
    "a[1] = 100\n",
    "a"
   ]
  },
  {
   "cell_type": "code",
   "execution_count": 12,
   "metadata": {},
   "outputs": [
    {
     "data": {
      "text/plain": [
       "[1, 2, 3]"
      ]
     },
     "execution_count": 12,
     "metadata": {},
     "output_type": "execute_result"
    }
   ],
   "source": [
    "#b[1] = 100\n",
    "c = list(b)\n",
    "c"
   ]
  },
  {
   "cell_type": "code",
   "execution_count": 33,
   "metadata": {},
   "outputs": [],
   "source": [
    "class person:\n",
    "    def __init__(self, name, age=18):\n",
    "        #print(self,'Good')\n",
    "        self.name = name\n",
    "        self.age = age\n",
    "        \n",
    "        print('당신의 이름 :',self.name)\n",
    "        print('당신의 나이 :',self.age)"
   ]
  },
  {
   "cell_type": "code",
   "execution_count": 29,
   "metadata": {},
   "outputs": [
    {
     "name": "stdout",
     "output_type": "stream",
     "text": [
      "당신의 이름 : 현준\n",
      "당신의 나이 : 25\n"
     ]
    }
   ],
   "source": [
    "p1 = person('현준', 25)"
   ]
  },
  {
   "cell_type": "code",
   "execution_count": 34,
   "metadata": {},
   "outputs": [
    {
     "name": "stdout",
     "output_type": "stream",
     "text": [
      "당신의 이름 : 호준\n",
      "당신의 나이 : 18\n",
      "김호준\n"
     ]
    }
   ],
   "source": [
    "p3 = person('호준')\n",
    "p3.name = '김호준'\n",
    "print(p3.name)"
   ]
  },
  {
   "cell_type": "code",
   "execution_count": 57,
   "metadata": {},
   "outputs": [],
   "source": [
    "class person:\n",
    "    def __init__(self, name, age, min):\n",
    "        #print(self,'Good')\n",
    "        self.name = name\n",
    "        self.age = age\n",
    "        self.min = min\n",
    "    \n",
    "    def sleep(self):\n",
    "        print('{}(이)가 {}분 동안 잠을 잤다.'.format(self.name, self.min))"
   ]
  },
  {
   "cell_type": "code",
   "execution_count": 48,
   "metadata": {},
   "outputs": [
    {
     "ename": "TypeError",
     "evalue": "__init__() missing 2 required positional arguments: 'age' and 'min'",
     "output_type": "error",
     "traceback": [
      "\u001b[1;31m---------------------------------------------------------------------------\u001b[0m",
      "\u001b[1;31mTypeError\u001b[0m                                 Traceback (most recent call last)",
      "\u001b[1;32m<ipython-input-48-f495c16fb1dc>\u001b[0m in \u001b[0;36m<module>\u001b[1;34m\u001b[0m\n\u001b[1;32m----> 1\u001b[1;33m \u001b[0mp4\u001b[0m \u001b[1;33m=\u001b[0m \u001b[0mperson\u001b[0m\u001b[1;33m(\u001b[0m\u001b[1;34m'현준'\u001b[0m\u001b[1;33m,\u001b[0m\u001b[1;33m)\u001b[0m\u001b[1;33m\u001b[0m\u001b[1;33m\u001b[0m\u001b[0m\n\u001b[0m\u001b[0;32m      2\u001b[0m \u001b[0mp4\u001b[0m\u001b[1;33m.\u001b[0m\u001b[0msleep\u001b[0m\u001b[1;33m(\u001b[0m\u001b[1;33m)\u001b[0m\u001b[1;33m\u001b[0m\u001b[1;33m\u001b[0m\u001b[0m\n",
      "\u001b[1;31mTypeError\u001b[0m: __init__() missing 2 required positional arguments: 'age' and 'min'"
     ]
    }
   ],
   "source": [
    "p4 = person('현준',)\n",
    "p4.sleep()"
   ]
  },
  {
   "cell_type": "code",
   "execution_count": 54,
   "metadata": {},
   "outputs": [
    {
     "name": "stdout",
     "output_type": "stream",
     "text": [
      "현준(이)가 20분 동안 잠을 잤다.\n"
     ]
    }
   ],
   "source": [
    "p5 = person('현준', 50, 20)\n",
    "p5.sleep()"
   ]
  },
  {
   "cell_type": "code",
   "execution_count": 55,
   "metadata": {},
   "outputs": [],
   "source": [
    "class person:\n",
    "    def __init__(self, name, age, min):\n",
    "        #print(self,'Good')\n",
    "        self.name = name\n",
    "        self.age = age\n",
    "        self.min = min\n",
    "    \n",
    "    def sleep(self):\n",
    "        print('{}(이)가 {}분 동안 잠을 잤다.'.format(self.name, self.min))\n",
    "    \n",
    "    def game(self):\n",
    "        print('{}(이)가 {}분 동안 게임을 했다.'.format(self.name, self.min))"
   ]
  },
  {
   "cell_type": "code",
   "execution_count": 56,
   "metadata": {},
   "outputs": [
    {
     "name": "stdout",
     "output_type": "stream",
     "text": [
      "왕기(이)가 60분 동안 게임을 했다.\n"
     ]
    }
   ],
   "source": [
    "p6 = person('왕기', 19, 60)\n",
    "p6.game()"
   ]
  },
  {
   "cell_type": "code",
   "execution_count": 107,
   "metadata": {},
   "outputs": [],
   "source": [
    "class counter:\n",
    "    def __init__(self, num=0):\n",
    "        self.num=num\n",
    "    \n",
    "    def inc(self):\n",
    "         self.num= self.num+1\n",
    "        \n",
    "    def reset(self):\n",
    "         self.num=0\n",
    "    \n",
    "    def print_cut(self):\n",
    "        print('현재 num값은 {}이다.'.format(self.num))"
   ]
  },
  {
   "cell_type": "code",
   "execution_count": 90,
   "metadata": {},
   "outputs": [],
   "source": [
    "p7=counter()"
   ]
  },
  {
   "cell_type": "code",
   "execution_count": 96,
   "metadata": {},
   "outputs": [
    {
     "name": "stdout",
     "output_type": "stream",
     "text": [
      "현재 num값은 6이다.\n"
     ]
    }
   ],
   "source": [
    "p7.inc()\n",
    "p7.print_cut()"
   ]
  },
  {
   "cell_type": "code",
   "execution_count": 98,
   "metadata": {},
   "outputs": [
    {
     "name": "stdout",
     "output_type": "stream",
     "text": [
      "현재 num값은 0이다.\n"
     ]
    }
   ],
   "source": [
    "p7.reset()\n",
    "p7.print_cut()"
   ]
  },
  {
   "cell_type": "code",
   "execution_count": 120,
   "metadata": {},
   "outputs": [],
   "source": [
    "class person:\n",
    "    \n",
    "    def __init__(self, name):\n",
    "        #print(self,'Good')\n",
    "        self.name = name\n",
    "        \n",
    "    def eat(self, food):\n",
    "        print('{}(이)가 {}을(를) 잘 먹는다.'.format(self.name, food))\n",
    "    \n",
    "    def go(self, job):\n",
    "        print('{}(이)가 고등학교를 졸업해서 {}에 다닌다.'.format(self.name, job))\n",
    "    \n",
    "    def sleep(self, min):\n",
    "        print('{}(이)가 {}분 동안 잠을 잤다.'.format(self.name, min))\n",
    "    \n",
    "    def game(self, hour):\n",
    "        print('{}(이)가 {}시간 동안 게임을 했다.'.format(self.name, hour))\n",
    "        \n",
    "class student(person):\n",
    "    \n",
    "    def sleep(self, min):\n",
    "        super().sleep(min)\n",
    "        print('{}(이)가 {}분 동안 잠을 자서 혼났다.'.format(self.name, min))\n",
    "        \n",
    "class Employee(person):\n",
    "    \n",
    "    def go(self, job):\n",
    "        super().go(job)\n",
    "        print('{}(이)가 {}졸업해서 삼성에 취업했다.'.format(self.name, job))"
   ]
  },
  {
   "cell_type": "code",
   "execution_count": 115,
   "metadata": {},
   "outputs": [
    {
     "name": "stdout",
     "output_type": "stream",
     "text": [
      "덕민(이)가 아이스크림을(를) 잘 먹는다.\n",
      "덕민(이)가 고등학교를 졸업해서 인천대학교 컴퓨터 공학과에 다닌다.\n"
     ]
    }
   ],
   "source": [
    "p8=person('덕민')\n",
    "p8.eat('아이스크림')\n",
    "p8.go('인천대학교 컴퓨터 공학과')"
   ]
  },
  {
   "cell_type": "code",
   "execution_count": 116,
   "metadata": {},
   "outputs": [
    {
     "name": "stdout",
     "output_type": "stream",
     "text": [
      "정우(이)가 30분 동안 잠을 잤다.\n",
      "정우(이)가 30분 동안 잠을 자서 혼났다.\n"
     ]
    }
   ],
   "source": [
    "p8=student('정우')\n",
    "p8.sleep(30)"
   ]
  },
  {
   "cell_type": "code",
   "execution_count": 121,
   "metadata": {},
   "outputs": [
    {
     "name": "stdout",
     "output_type": "stream",
     "text": [
      "민우(이)가 고등학교를 졸업해서 인하대학교에 다닌다.\n",
      "민우(이)가 인하대학교졸업해서 삼성에 취업했다.\n"
     ]
    }
   ],
   "source": [
    "p8 = Employee('민우')\n",
    "p8.go('인하대학교')"
   ]
  }
 ],
 "metadata": {
  "kernelspec": {
   "display_name": "Python 3",
   "language": "python",
   "name": "python3"
  },
  "language_info": {
   "codemirror_mode": {
    "name": "ipython",
    "version": 3
   },
   "file_extension": ".py",
   "mimetype": "text/x-python",
   "name": "python",
   "nbconvert_exporter": "python",
   "pygments_lexer": "ipython3",
   "version": "3.7.4"
  }
 },
 "nbformat": 4,
 "nbformat_minor": 2
}

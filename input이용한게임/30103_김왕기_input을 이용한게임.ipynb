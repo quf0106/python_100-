{
 "cells": [
  {
   "cell_type": "markdown",
   "metadata": {},
   "source": [
    "## 30103 김왕기"
   ]
  },
  {
   "cell_type": "markdown",
   "metadata": {},
   "source": [
    "### 가위바위보게임"
   ]
  },
  {
   "cell_type": "code",
   "execution_count": 1,
   "metadata": {},
   "outputs": [],
   "source": [
    "import random"
   ]
  },
  {
   "cell_type": "code",
   "execution_count": 6,
   "metadata": {},
   "outputs": [
    {
     "name": "stdout",
     "output_type": "stream",
     "text": [
      "1는 가위 2는 바위 3은 보 입니다.\n",
      "기회는 5번 입니다.\n",
      "1~3중에 입력해주세요.1\n",
      "비김\n",
      "1~3중에 입력해주세요.2\n",
      "비김\n",
      "1~3중에 입력해주세요.3\n",
      "짐\n",
      "1~3중에 입력해주세요.4\n",
      "1~3안에서만 입력해주세요\n",
      "1~3중에 입력해주세요.2\n",
      "이김\n"
     ]
    }
   ],
   "source": [
    "count=4\n",
    "print(\"1는 가위 2는 바위 3은 보 입니다.\")\n",
    "print(\"기회는 5번 입니다.\")\n",
    "while True:\n",
    "    a = random.randint(1,3)\n",
    "    b = int(input('1~3중에 입력해주세요.'))\n",
    "    if(b<4):\n",
    "        if(count>0):\n",
    "            if(b==1):\n",
    "                if(a==1):\n",
    "                    print('비김')\n",
    "                    count=count-1\n",
    "                elif(a==2):\n",
    "                    print('짐')\n",
    "                    count=count-1\n",
    "                else:\n",
    "                    print('이김')\n",
    "                    break\n",
    "            elif(b==2):\n",
    "                if(a==1):\n",
    "                    print('이김')\n",
    "                    break\n",
    "                elif(a==2):\n",
    "                    print('비김')\n",
    "                    count=count-1\n",
    "                else:\n",
    "                    print('짐')\n",
    "                    count=count-1\n",
    "            else:\n",
    "                if(a==1):\n",
    "                    print('짐')\n",
    "                    count=count-1\n",
    "                elif(a==2):\n",
    "                    print('이김')\n",
    "                    break\n",
    "                else:\n",
    "                    print('비김')\n",
    "                    count=count-1\n",
    "        else:\n",
    "            print('기회를 다 사용하였습니다')\n",
    "            break\n",
    "    else:\n",
    "        print('1~3안에서만 입력해주세요')"
   ]
  }
 ],
 "metadata": {
  "kernelspec": {
   "display_name": "Python 3",
   "language": "python",
   "name": "python3"
  },
  "language_info": {
   "codemirror_mode": {
    "name": "ipython",
    "version": 3
   },
   "file_extension": ".py",
   "mimetype": "text/x-python",
   "name": "python",
   "nbconvert_exporter": "python",
   "pygments_lexer": "ipython3",
   "version": "3.7.4"
  }
 },
 "nbformat": 4,
 "nbformat_minor": 2
}
